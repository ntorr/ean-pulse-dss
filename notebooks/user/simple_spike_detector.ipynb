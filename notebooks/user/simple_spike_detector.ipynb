{
 "cells": [
  {
   "cell_type": "code",
   "execution_count": 21,
   "metadata": {
    "collapsed": true
   },
   "outputs": [],
   "source": [
    "\"\"\"\n",
    "Always have this in the header of the Notebook\n",
    "\"\"\"\n",
    "# Setup logging\n",
    "import logging\n",
    "logging.basicConfig(level=\"INFO\")\n",
    "logger = logging.getLogger('Notebook')\n",
    "\n",
    "# Allow modules and files to be loaded with relative paths\n",
    "from pkg_resources import resource_filename\n",
    "import sys\n",
    "sys.path.append(resource_filename(__name__, \"\"))\n",
    "\n",
    "# Set variable to remove functions that are not useful in production e.g. rendering images\n",
    "IN_JUPYTER = 'get_ipython' in globals() and get_ipython().__class__.__name__ == \"ZMQInteractiveShell\""
   ]
  },
  {
   "cell_type": "code",
   "execution_count": 22,
   "metadata": {
    "collapsed": true
   },
   "outputs": [],
   "source": [
    "\"\"\"\n",
    "The execute function must be included in all notebooks that are to be run in production\n",
    "This allows Jupyter Notebooks to implement an abstracted execute() function\n",
    "It returns a Pandas DataFrame\n",
    "\"\"\"\n",
    "def execute(train, score, config=None):\n",
    "    logger.info('Calling notebook execute ...')\n",
    "    logger.debug('Training data = %s' % str(train))\n",
    "    logger.debug('Scoring data = %s' % str(score))\n",
    "    \n",
    "    # compute median\n",
    "    median = train['observation'].median()\n",
    "    merged = train.append(score, ignore_index=True)\n",
    "    last_index = merged.index[-1]\n",
    "    train['residuals'] = train['observation'] - median\n",
    "    std = train['residuals'].std()\n",
    "    merged.loc[last_index, 'anomaly'] = merged.loc[last_index, 'observation'] > 3.0 * std\n",
    "    \n",
    "    return merged.loc[[last_index]]"
   ]
  },
  {
   "cell_type": "code",
   "execution_count": 23,
   "metadata": {
    "collapsed": true
   },
   "outputs": [],
   "source": [
    "\"\"\"\n",
    "Below you can put code for testing, plotting and collecting local data whilst prototyping\n",
    "Nesting in the condition means none of this code will be called in production\n",
    "\"\"\"\n",
    "if IN_JUPYTER:\n",
    "    # Place prototyping code here\n",
    "    import pandas as pd\n",
    "    \n",
    "    train_cols = ['observation', 'anomaly']\n",
    "    train_data = [[1.0, 0], [1.1, 0], [10.0, 1], [1.0, 0], [0.8, 0]]\n",
    "    train_index = [1, 2, 3, 4, 5]\n",
    "    train = pd.DataFrame(data=train_data, columns=train_cols, index=train_index)\n",
    "    \n",
    "    score_cols = ['observation']\n",
    "    score_data = [[2.0]]\n",
    "    score_index = [6]\n",
    "    score = pd.DataFrame(data=score_data, columns=score_cols, index=score_index)\n",
    "    \n",
    "    print(execute(train, score))\n",
    "    \n",
    "    pass"
   ]
  }
 ],
 "metadata": {
  "kernelspec": {
   "display_name": "Python 3",
   "language": "python",
   "name": "python3"
  },
  "language_info": {
   "codemirror_mode": {
    "name": "ipython",
    "version": 3
   },
   "file_extension": ".py",
   "mimetype": "text/x-python",
   "name": "python",
   "nbconvert_exporter": "python",
   "pygments_lexer": "ipython3",
   "version": "3.5.3"
  }
 },
 "nbformat": 4,
 "nbformat_minor": 1
}
