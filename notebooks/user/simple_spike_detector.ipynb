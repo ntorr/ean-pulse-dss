{
 "cells": [
  {
   "cell_type": "code",
   "execution_count": null,
   "metadata": {
    "collapsed": true
   },
   "outputs": [],
   "source": [
    "\"\"\"\n",
    "Always have this in the header of the Notebook\n",
    "\"\"\"\n",
    "# Setup logging\n",
    "import logging\n",
    "logging.basicConfig(level=\"INFO\")\n",
    "logger = logging.getLogger('Notebook')\n",
    "\n",
    "# Allow modules and files to be loaded with relative paths\n",
    "from pkg_resources import resource_filename\n",
    "import sys\n",
    "sys.path.append(resource_filename(__name__, \"\"))\n",
    "\n",
    "# Set variable to remove functions that are not useful in production e.g. rendering images\n",
    "IN_JUPYTER = 'get_ipython' in globals() and get_ipython().__class__.__name__ == \"ZMQInteractiveShell\""
   ]
  },
  {
   "cell_type": "code",
   "execution_count": null,
   "metadata": {
    "collapsed": true
   },
   "outputs": [],
   "source": [
    "\"\"\"\n",
    "The execute function must be included in all notebooks that are to be run in production\n",
    "This allows Jupyter Notebooks to implement an abstracted execute() function\n",
    "It returns a Pandas DataFrame\n",
    "\"\"\"\n",
    "def execute(train, score, config=None):\n",
    "    logger.info('Calling notebook execute ...')\n",
    "    logger.debug('Training data = %s' % str(train))\n",
    "    logger.debug('Scoring data = %s' % str(score))\n",
    "    \n",
    "    # imports\n",
    "    import pandas as pd\n",
    "    \n",
    "    # check input data and cut if needed\n",
    "    assert(len(train) >= config['lookback'])\n",
    "    train = train[-lookback:]\n",
    "    \n",
    "    # compute median\n",
    "    median = train['observation'].median()\n",
    "\n",
    "    # compute std deviation on residuals\n",
    "    train['residuals'] = train['observation'] - median\n",
    "    std = train['residuals'].std()\n",
    "    n_sigma = config['n_sigma']\n",
    "    \n",
    "    # decide if last point is anomalous\n",
    "    observation = score.ix[score.index[0], 'observation']\n",
    "    anomaly = int(abs(observation - median) > n_sigma * std)\n",
    "\n",
    "    # return result\n",
    "    return pd.DataFrame(index=score.index, columns=['observation', 'anomaly', 'median'], \n",
    "                        data=[[observation, anomaly, median]])"
   ]
  },
  {
   "cell_type": "code",
   "execution_count": null,
   "metadata": {
    "collapsed": true
   },
   "outputs": [],
   "source": [
    "\"\"\"\n",
    "Below you can put code for testing, plotting and collecting local data whilst prototyping\n",
    "Nesting in the condition means none of this code will be called in production\n",
    "\"\"\"\n",
    "if IN_JUPYTER:\n",
    "    # Place prototyping code here\n",
    "    logging.basicConfig(level='DEBUG')\n",
    "    \n",
    "    import pandas as pd\n",
    "    import numpy as np\n",
    "    import matplotlib.pyplot as plt\n",
    "    \n",
    "    conf = dict()\n",
    "    conf['n_sigma'] = 1.0\n",
    "    lookback = 30\n",
    "    conf['lookback'] = lookback\n",
    "    lookforward = 200\n",
    "    \n",
    "    train_cols = ['observation', 'anomaly', 'median']\n",
    "    train_data = [[np.random.normal(), None, None] for i in range(lookback)]\n",
    "    train_index = [i for i in range(lookback)]\n",
    "    train = pd.DataFrame(data=train_data, columns=train_cols, index=train_index)\n",
    "    \n",
    "    score_cols = ['observation']\n",
    "    score_data = [[np.random.normal()] for i in range(lookforward)]\n",
    "    score_index = [i + lookback for i in range(lookforward)]\n",
    "    score = pd.DataFrame(data=score_data, columns=score_cols, index=score_index)\n",
    "    \n",
    "    for i in range(lookforward):\n",
    "        this_train = train[i:lookback + i]\n",
    "        this_score = score[i:i + 1]\n",
    "        result = execute(this_train, this_score, conf)\n",
    "        train = train.append(result, ignore_index=True)\n",
    "    \n",
    "    print('final results: \\n%s' % train)\n",
    "    \n",
    "    train.plot(y=['observation', 'median'])\n",
    "    plt.show()\n",
    "    train.plot(y='anomaly')\n",
    "    plt.show()\n",
    "    \n",
    "    pass"
   ]
  }
 ],
 "metadata": {
  "kernelspec": {
   "display_name": "Python 3",
   "language": "python",
   "name": "python3"
  },
  "language_info": {
   "codemirror_mode": {
    "name": "ipython",
    "version": 3
   },
   "file_extension": ".py",
   "mimetype": "text/x-python",
   "name": "python",
   "nbconvert_exporter": "python",
   "pygments_lexer": "ipython3",
   "version": "3.6.1"
  }
 },
 "nbformat": 4,
 "nbformat_minor": 1
}
