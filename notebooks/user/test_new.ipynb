{
 "cells": [
  {
   "cell_type": "code",
   "execution_count": 7,
   "metadata": {
    "collapsed": true
   },
   "outputs": [],
   "source": [
    "\"\"\"\n",
    "Always have this in the header of a Notebook\n",
    "\"\"\"\n",
    "# Allow modules and files to be loaded with relative paths\n",
    "from pkg_resources import resource_filename\n",
    "import sys\n",
    "sys.path.append(resource_filename(__name__, \"\"))\n",
    "\n",
    "# We don't execute everything unless we're viewing in a notebook\n",
    "IN_JUPYTER = 'get_ipython' in globals() and get_ipython().__class__.__name__ == \"ZMQInteractiveShell\""
   ]
  },
  {
   "cell_type": "code",
   "execution_count": 8,
   "metadata": {},
   "outputs": [
    {
     "name": "stderr",
     "output_type": "stream",
     "text": [
      "INFO:notebook:Test\n"
     ]
    }
   ],
   "source": [
    "import logging\n",
    "logging.basicConfig(level=\"INFO\")\n",
    "\n",
    "logger = logging.getLogger('notebook')\n",
    "logger.info('Test')"
   ]
  },
  {
   "cell_type": "code",
   "execution_count": null,
   "metadata": {
    "collapsed": true
   },
   "outputs": [],
   "source": []
  }
 ],
 "metadata": {
  "kernelspec": {
   "display_name": "Python 3",
   "language": "python",
   "name": "python3"
  },
  "language_info": {
   "codemirror_mode": {
    "name": "ipython",
    "version": 3
   },
   "file_extension": ".py",
   "mimetype": "text/x-python",
   "name": "python",
   "nbconvert_exporter": "python",
   "pygments_lexer": "ipython3",
   "version": "3.6.1"
  }
 },
 "nbformat": 4,
 "nbformat_minor": 1
}
