{
 "cells": [
  {
   "cell_type": "code",
   "execution_count": 1,
   "metadata": {
    "collapsed": true
   },
   "outputs": [],
   "source": [
    "\"\"\"\n",
    "Always have this in the header of the Notebook\n",
    "\"\"\"\n",
    "# Setup logging\n",
    "import logging\n",
    "logging.basicConfig(level=\"INFO\")\n",
    "logger = logging.getLogger('Notebook')\n",
    "\n",
    "# Allow modules and files to be loaded with relative paths ...\n",
    "from pkg_resources import resource_filename\n",
    "import sys\n",
    "sys.path.append(resource_filename(__name__, \"\"))\n",
    "# ... or rather this way?\n",
    "# TODO - understand the best way to import development code\n",
    "import os\n",
    "module_path = os.path.abspath(os.path.join('..', '..'))\n",
    "if module_path not in sys.path:\n",
    "    sys.path.append(module_path)\n",
    "\n",
    "# Set variable to remove functions that are not useful in production e.g. rendering images\n",
    "IN_JUPYTER = 'get_ipython' in globals() and get_ipython().__class__.__name__ == \"ZMQInteractiveShell\"\n",
    "\n",
    "# standard imports\n",
    "from pulse_dss.config import Config"
   ]
  },
  {
   "cell_type": "code",
   "execution_count": 2,
   "metadata": {
    "collapsed": true
   },
   "outputs": [],
   "source": [
    "\"\"\"\n",
    "The execute function must be included in all notebooks that are to be run in production\n",
    "This allows Jupyter Notebooks to implement an abstracted execute() function\n",
    "It returns a Pandas DataFrame\n",
    "\"\"\"\n",
    "def execute(train, score, config=Config()):\n",
    "    logger.info('Calling notebook execute')\n",
    "    logger.debug('Training data = %s' % str(train))\n",
    "    logger.debug('Scoring data = %s' % str(score))\n",
    "    \n",
    "    # safe way to get configurable\n",
    "    parameter = config.get('parameter', default=1.0)\n",
    "    \n",
    "    # in this example, simply merge the train and score data\n",
    "    return train.append(score, ignore_index=True)"
   ]
  },
  {
   "cell_type": "code",
   "execution_count": 3,
   "metadata": {
    "collapsed": true
   },
   "outputs": [],
   "source": [
    "\"\"\"\n",
    "Below you can put code for testing, plotting and collecting local data whilst prototyping\n",
    "Nesting in the condition means none of this code will be called in production\n",
    "\"\"\"\n",
    "if IN_JUPYTER:\n",
    "    # Place prototyping code here\n",
    "    pass"
   ]
  }
 ],
 "metadata": {
  "kernelspec": {
   "display_name": "Python 3",
   "language": "python",
   "name": "python3"
  },
  "language_info": {
   "codemirror_mode": {
    "name": "ipython",
    "version": 3
   },
   "file_extension": ".py",
   "mimetype": "text/x-python",
   "name": "python",
   "nbconvert_exporter": "python",
   "pygments_lexer": "ipython3",
   "version": "3.6.1"
  }
 },
 "nbformat": 4,
 "nbformat_minor": 1
}
